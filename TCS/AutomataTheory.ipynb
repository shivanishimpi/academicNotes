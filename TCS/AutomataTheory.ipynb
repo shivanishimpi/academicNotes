{
  "nbformat": 4,
  "nbformat_minor": 0,
  "metadata": {
    "colab": {
      "name": "AutomataTheory.ipynb",
      "provenance": [],
      "authorship_tag": "ABX9TyNEOWPZVDJDKnEFYyIOXp1d",
      "include_colab_link": true
    },
    "kernelspec": {
      "name": "python3",
      "display_name": "Python 3"
    }
  },
  "cells": [
    {
      "cell_type": "markdown",
      "metadata": {
        "id": "view-in-github",
        "colab_type": "text"
      },
      "source": [
        "<a href=\"https://colab.research.google.com/github/shivanishimpi/academicNotes/blob/master/TCS/AutomataTheory.ipynb\" target=\"_parent\"><img src=\"https://colab.research.google.com/assets/colab-badge.svg\" alt=\"Open In Colab\"/></a>"
      ]
    },
    {
      "cell_type": "markdown",
      "metadata": {
        "id": "tY-2iUQWcmQh",
        "colab_type": "text"
      },
      "source": [
        "> This notebook was constructed to keep a track of the topics covered while studying the *Automata Theory*\n",
        "\n",
        "Date Created: July 2, 2020\n",
        "\n",
        "\n",
        "References:\n",
        "\n",
        "[1] [Automata Theory - Stanford](https://cs.stanford.edu/people/eroberts/courses/soco/projects/2004-05/automata-theory/basics.html)\n",
        "\n",
        "[2] [Theory of Computation - Clemson](https://people.cs.clemson.edu/~goddard/texts/theoryOfComputation/1.pdf)\n",
        "\n",
        "[3] [Cornell](http://www.cs.cornell.edu/courses/cs2800/2017sp/lectures/lec22-dfa.html)"
      ]
    },
    {
      "cell_type": "markdown",
      "metadata": {
        "id": "iZaeG2xWdYAt",
        "colab_type": "text"
      },
      "source": [
        "#Table Of Contents"
      ]
    },
    {
      "cell_type": "markdown",
      "metadata": {
        "id": "XOC8EJWtdEdh",
        "colab_type": "text"
      },
      "source": [
        "#Basics of Automata Theory"
      ]
    },
    {
      "cell_type": "markdown",
      "metadata": {
        "id": "gWvePP3yYLGc",
        "colab_type": "text"
      },
      "source": [
        "##Finite State Machine"
      ]
    },
    {
      "cell_type": "markdown",
      "metadata": {
        "id": "E0qL-XOLACT6",
        "colab_type": "text"
      },
      "source": [
        "```Definitions```\n",
        "\n",
        "> A finite automaton (FA) is a device that recognizes a language (set of strings). It has finite\n",
        "memory and an input tape; each input symbol\n",
        "that is read causes the machine to update its\n",
        "state based on its current state and the symbol\n",
        "read. The machine accepts the input if it is in\n",
        "an accept state at the end of the string; otherwise, the input is rejected.\n",
        "\n",
        "> A finite automaton has a finite set of states with\n",
        "which it accepts or rejects strings\n",
        "\n",
        "```\n",
        "A finite-state machine is formally defined as a 5-tuple (Q, I, Z, ∂, W) such that:\n",
        "\n",
        "Q = finite set of states\n",
        "I = finite set of input symbols\n",
        "Z = finite set of output symbols\n",
        "∂ = mapping of I x Q into Q called the state transition function, i.e. I x Q → Q\n",
        "W = mapping W of I x Q onto Z, called the output function\n",
        "A = set of accept states where F is a subset of Q\n",
        "```\n",
        "\n",
        "```\n",
        "Q : Finite set of states \n",
        "Σ : set of Input Symbols \n",
        "q : Initial state \n",
        "F : set of Final States \n",
        "δ : Transition Function \n",
        "```\n",
        "\n",
        "Formal specification of machine is ```{Q, Σ, q, F, δ}```"
      ]
    },
    {
      "cell_type": "markdown",
      "metadata": {
        "id": "aGhAzFmbBj3S",
        "colab_type": "text"
      },
      "source": [
        "Major objective of automata theory: \\\n",
        "- Develop methods by which computer scientists can describe and analyze the dynamic behavior of discrete systems, in which signals are sampled periodically.\n",
        "- The behavior of these discrete systems is determined by the way that the system is constructed from storage and combinational elements. \n",
        "\n",
        "Characteristics of such machines include:\n",
        "- ```Inputs```: assumed to be sequences of symbols selected from a finite set I of input signals. Namely, set $I$ is the set $\\{x_1, x_2, x_3 \\dots x_k\\}$ where $k$ is the number of inputs.\n",
        "- ```Outputs```: sequences of symbols selected from a finite set $Z$. Namely, set $Z$ is the set $\\{y_1, y_2, y_3 \\dots y_m\\}$ where $m$ is the number  of outputs.\n",
        "- ```States```: finite set $Q$, whose definition depends on the type of automaton."
      ]
    },
    {
      "cell_type": "markdown",
      "metadata": {
        "id": "_Vxv_dgxFBVz",
        "colab_type": "text"
      },
      "source": [
        "There are four major families of automaton :\n",
        "\n",
        "- Finite-state machine\n",
        "- Pushdown automata\n",
        "- Linear-bounded automata\n",
        "- Turing machine\n",
        " \n",
        "\n",
        "Types of Finite State machine\n",
        "\n",
        "- Deterministic Finite Automata ```δ : Q X Σ --> Q```\n",
        "- Non-deterministic Finite Automata ```δ:  Q X (Σ U ε ) --> 2^Q```\n"
      ]
    },
    {
      "cell_type": "markdown",
      "metadata": {
        "id": "jyBkx44MYFkJ",
        "colab_type": "text"
      },
      "source": [
        "##Turing Machine"
      ]
    },
    {
      "cell_type": "markdown",
      "metadata": {
        "id": "5qZrXHkaYHus",
        "colab_type": "text"
      },
      "source": [
        "```\n",
        "A Turing machine is formally defined by the set [Q, Σ, Γ, δ, q0, B, F] where\n",
        "\n",
        "Q = finite set of states, of which one state q0 is the initial state\n",
        "Σ = a subset of Γ not including B, is the set of input symbols\n",
        "Γ = finite set of allowable tape symbols\n",
        "δ = the next move function , a mapping function from Q x Γ to Q x Γ x {L,R}, where L and R denote the directions left and right respectively\n",
        "q0 = in set Q as the start state\n",
        "B = a symbol of Γ, as the blank\n",
        "F ⊆ Q the set of final states\n",
        "```"
      ]
    }
  ]
}